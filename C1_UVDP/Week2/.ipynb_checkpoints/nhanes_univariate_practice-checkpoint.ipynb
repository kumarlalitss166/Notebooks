{
 "cells": [
  {
   "cell_type": "markdown",
   "metadata": {},
   "source": [
    "# Practice notebook for univariate analysis using NHANES data\n",
    "\n",
    "This notebook will give you the opportunity to perform some univariate analyses on your own using the NHANES.  These analyses are similar to what was done in the week 2 NHANES case study notebook.\n",
    "\n",
    "You can enter your code into the cells that say \"enter your code here\", and you can type responses to the questions into the cells that say \"Type Markdown and Latex\".\n",
    "\n",
    "Note that most of the code that you will need to write below is very similar to code that appears in the case study notebook.  You will need to edit code from that notebook in small ways to adapt it to the prompts below.\n",
    "\n",
    "To get started, we will use the same module imports and read the data in the same way as we did in the case study:"
   ]
  },
  {
   "cell_type": "code",
   "execution_count": 1,
   "metadata": {},
   "outputs": [],
   "source": [
    "%matplotlib inline\n",
    "import matplotlib.pyplot as plt\n",
    "import seaborn as sns\n",
    "import pandas as pd\n",
    "import statsmodels.api as sm\n",
    "import numpy as np\n",
    "\n",
    "da = pd.read_csv(\"nhanes_2015_2016.csv\")"
   ]
  },
  {
   "cell_type": "markdown",
   "metadata": {},
   "source": [
    "## Question 1\n",
    "\n",
    "Relabel the marital status variable [DMDMARTL](https://wwwn.cdc.gov/Nchs/Nhanes/2015-2016/DEMO_I.htm#DMDMARTL) to have brief but informative character labels.  Then construct a frequency table of these values for all people, then for women only, and for men only.  Then construct these three frequency tables using only people whose age is between 30 and 40."
   ]
  },
  {
   "cell_type": "code",
   "execution_count": 2,
   "metadata": {
    "scrolled": false
   },
   "outputs": [
    {
     "name": "stdout",
     "output_type": "stream",
     "text": [
      "1.0     2780\n",
      "5.0     1004\n",
      "3.0      579\n",
      "6.0      527\n",
      "2.0      396\n",
      "4.0      186\n",
      "77.0       2\n",
      "Name: DMDMARTL, dtype: int64\n",
      "Total: 5474\n",
      "Missing: 261\n"
     ]
    }
   ],
   "source": [
    "print(da.DMDMARTL.value_counts())\n",
    "print('Total:',da.DMDMARTL.value_counts().sum())\n",
    "da['DMDMARTLx'] = da.DMDMARTL.replace({1:'Married', 2:'Widowed', 3:'Divorced', 4:'Separated', 5: 'Never married', 6:'Living with partner', 77:'Refused'}).fillna('Missing')\n",
    "print('Missing:',pd.isnull(da.DMDMARTL).sum())"
   ]
  },
  {
   "cell_type": "code",
   "execution_count": 3,
   "metadata": {},
   "outputs": [
    {
     "name": "stdout",
     "output_type": "stream",
     "text": [
      "2    2976\n",
      "1    2759\n",
      "Name: RIAGENDR, dtype: int64\n",
      "Female    2976\n",
      "Male      2759\n",
      "Name: RIAGENDRx, dtype: int64\n"
     ]
    }
   ],
   "source": [
    "print(da.RIAGENDR.value_counts())\n",
    "da[\"RIAGENDRx\"] = da.RIAGENDR.replace({1: \"Male\", 2: \"Female\"})\n",
    "print(da.RIAGENDRx.value_counts())"
   ]
  },
  {
   "cell_type": "code",
   "execution_count": 4,
   "metadata": {},
   "outputs": [
    {
     "name": "stdout",
     "output_type": "stream",
     "text": [
      "Married                2780\n",
      "Never married          1004\n",
      "Divorced                579\n",
      "Living with partner     527\n",
      "Widowed                 396\n",
      "Missing                 261\n",
      "Separated               186\n",
      "Refused                   2\n",
      "Name: DMDMARTLx, dtype: int64\n",
      "DMDMARTL_M  DMDMARTLx          \n",
      "(0, 1]      Married                1477\n",
      "            Never married           484\n",
      "            Living with partner     265\n",
      "            Divorced                229\n",
      "            Missing                 135\n",
      "            Widowed                 100\n",
      "            Separated                68\n",
      "            Refused                   1\n",
      "Name: DMDMARTLx, dtype: int64\n",
      "DMDMARTL_F  DMDMARTLx          \n",
      "(1, 2]      Married                1303\n",
      "            Never married           520\n",
      "            Divorced                350\n",
      "            Widowed                 296\n",
      "            Living with partner     262\n",
      "            Missing                 126\n",
      "            Separated               118\n",
      "            Refused                   1\n",
      "Name: DMDMARTLx, dtype: int64\n"
     ]
    }
   ],
   "source": [
    "print(da.DMDMARTLx.value_counts())\n",
    "da['DMDMARTL_M'] = pd.cut(da.RIAGENDR, [0,1])\n",
    "print(da.groupby('DMDMARTL_M')['DMDMARTLx'].value_counts())\n",
    "da['DMDMARTL_F'] = pd.cut(da[\"RIAGENDR\"], [1,2])\n",
    "print(da.groupby('DMDMARTL_F')['DMDMARTLx'].value_counts())"
   ]
  },
  {
   "cell_type": "code",
   "execution_count": 5,
   "metadata": {},
   "outputs": [
    {
     "name": "stdout",
     "output_type": "stream",
     "text": [
      "agegrp    DMDMARTLx          \n",
      "(30, 40]  Married                516\n",
      "          Never married          186\n",
      "          Living with partner    129\n",
      "          Divorced                67\n",
      "          Separated               29\n",
      "          Widowed                  4\n",
      "          Refused                  1\n",
      "Name: DMDMARTLx, dtype: int64\n",
      "agegrp    DMDMARTL_M  DMDMARTLx          \n",
      "(30, 40]  (0, 1]      Married                258\n",
      "                      Never married           89\n",
      "                      Living with partner     72\n",
      "                      Divorced                24\n",
      "                      Separated               12\n",
      "                      Widowed                  2\n",
      "                      Refused                  1\n",
      "Name: DMDMARTLx, dtype: int64\n",
      "agegrp    DMDMARTL_F  DMDMARTLx          \n",
      "(30, 40]  (1, 2]      Married                258\n",
      "                      Never married           97\n",
      "                      Living with partner     57\n",
      "                      Divorced                43\n",
      "                      Separated               17\n",
      "                      Widowed                  2\n",
      "Name: DMDMARTLx, dtype: int64\n"
     ]
    }
   ],
   "source": [
    "da['agegrp'] = pd.cut(da.RIDAGEYR,[30,40]) \n",
    "print(da.groupby(\"agegrp\")[\"DMDMARTLx\"].value_counts())\n",
    "print(da.groupby([\"agegrp\",'DMDMARTL_M'])[\"DMDMARTLx\"].value_counts())\n",
    "print(da.groupby([\"agegrp\",'DMDMARTL_F'])[\"DMDMARTLx\"].value_counts())\n",
    "#print(da.groupby('DMDMARTLx','DMDMARTL_M')['agegrp'].value_counts())\n",
    "#print(da.groupby('DMDMARTLx','DMDMARTL_F')['agegrp'].value_counts())"
   ]
  },
  {
   "cell_type": "markdown",
   "metadata": {},
   "source": [
    "__Q1a.__ Briefly comment on some of the differences that you observe between the distribution of marital status between women and men, for people of all ages."
   ]
  },
  {
   "cell_type": "raw",
   "metadata": {},
   "source": [
    "We can clearly see that the number of males is greater than number of females for marital status: married. Also, there are more females which are divorced and widowed in comparison to males.  "
   ]
  },
  {
   "cell_type": "markdown",
   "metadata": {},
   "source": [
    "__Q1b.__ Briefly comment on the differences that you observe between the distribution of marital status states for women between the overall population, and for women between the ages of 30 and 40."
   ]
  },
  {
   "cell_type": "raw",
   "metadata": {},
   "source": [
    "The ratio of corresponding number of womens married, Never married or those living with partners in age (30,40] to those of overall population is nearly 0.20 while for womens divorced or separated is nearly 0.13 and we can clearly see that for widowed case the ratio is about very very small."
   ]
  },
  {
   "cell_type": "markdown",
   "metadata": {},
   "source": [
    "__Q1c.__ Repeat part b for the men."
   ]
  },
  {
   "cell_type": "raw",
   "metadata": {},
   "source": [
    "The ratio of corresponding number of mens married, Never married or those who are separated in age (30,40] to those of overall population is nearly 0.18 while for mens divorced is nearly 0.10 and we can clearly see that for widowed case the ratio is about very very small and for those living with thier partners is more that 0.27."
   ]
  },
  {
   "cell_type": "markdown",
   "metadata": {},
   "source": [
    "## Question 2\n",
    "\n",
    "Restricting to the female population, stratify the subjects into age bands no wider than ten years, and construct the distribution of marital status within each age band.  Within each age band, present the distribution in terms of proportions that must sum to 1."
   ]
  },
  {
   "cell_type": "code",
   "execution_count": 6,
   "metadata": {},
   "outputs": [
    {
     "name": "stdout",
     "output_type": "stream",
     "text": [
      "Married                0.484743\n",
      "Never married          0.175065\n",
      "Divorced               0.100959\n",
      "Living with partner    0.091892\n",
      "Widowed                0.069050\n",
      "Missing                0.045510\n",
      "Separated              0.032432\n",
      "Refused                0.000349\n",
      "Name: DMDMARTLx, dtype: float64\n",
      "Total Prop: 1.0\n"
     ]
    }
   ],
   "source": [
    "total = da.DMDMARTL.value_counts().sum()+pd.isnull(da.DMDMARTL).sum()\n",
    "print(da.DMDMARTLx.value_counts()/total)\n",
    "print('Total Prop:',(da.DMDMARTLx.value_counts()/total).sum())"
   ]
  },
  {
   "cell_type": "code",
   "execution_count": 7,
   "metadata": {},
   "outputs": [
    {
     "name": "stdout",
     "output_type": "stream",
     "text": [
      "agegrp    DMDMARTL_F  DMDMARTLx          \n",
      "(10, 20]  (1, 2]      Missing                0.021970\n",
      "                      Never married          0.005231\n",
      "                      Living with partner    0.001395\n",
      "                      Married                0.000174\n",
      "(20, 30]  (1, 2]      Never married          0.039930\n",
      "                      Married                0.027376\n",
      "                      Living with partner    0.018483\n",
      "                      Divorced               0.001918\n",
      "                      Separated              0.001918\n",
      "(30, 40]  (1, 2]      Married                0.044987\n",
      "                      Never married          0.016914\n",
      "                      Living with partner    0.009939\n",
      "                      Divorced               0.007498\n",
      "                      Separated              0.002964\n",
      "                      Widowed                0.000349\n",
      "(40, 50]  (1, 2]      Married                0.050218\n",
      "                      Divorced               0.012031\n",
      "                      Never married          0.010985\n",
      "                      Living with partner    0.006452\n",
      "                      Separated              0.005754\n",
      "                      Widowed                0.002092\n",
      "(50, 60]  (1, 2]      Married                0.044813\n",
      "                      Divorced               0.014473\n",
      "                      Never married          0.007323\n",
      "                      Living with partner    0.005580\n",
      "                      Widowed                0.004882\n",
      "                      Separated              0.004708\n",
      "                      Refused                0.000174\n",
      "(60, 70]  (1, 2]      Married                0.036966\n",
      "                      Divorced               0.014821\n",
      "                      Widowed                0.011334\n",
      "                      Never married          0.006626\n",
      "                      Separated              0.003836\n",
      "                      Living with partner    0.003313\n",
      "(70, 80]  (1, 2]      Widowed                0.032956\n",
      "                      Married                0.022668\n",
      "                      Divorced               0.010288\n",
      "                      Never married          0.003662\n",
      "                      Separated              0.001395\n",
      "                      Living with partner    0.000523\n",
      "Name: DMDMARTLx, dtype: float64\n"
     ]
    }
   ],
   "source": [
    "da['agegrp'] = pd.cut(da.RIDAGEYR, [0,10,20,30,40,50,60,70,80,90,100])\n",
    "print(da.groupby([\"agegrp\",'DMDMARTL_F'])[\"DMDMARTLx\"].value_counts()/total)\n",
    "#How to obtain total 'Female' count from 'RIAGENDRx' in 'total' variable?\n",
    "#da.RIAGENDR['Female'].value_counts()\n",
    "#How to show cumulative sum alongside each case?"
   ]
  },
  {
   "cell_type": "markdown",
   "metadata": {},
   "source": [
    "__Q2a.__ Comment on the trends that you see in this series of marginal distributions."
   ]
  },
  {
   "cell_type": "raw",
   "metadata": {},
   "source": [
    "Proportion of married womens increases upto age 50 then decreases.\n",
    "Proportion of divorced womens increases upto age 70 then decreases.\n",
    "Proportion of separated womens increases upto age 50 then decreases.\n",
    "Proportion of never married womens increases upto age 30 then decreases.\n",
    "Proportion of widowed womens continously increases from age 30.\n",
    "Proportion of womens living with partners increases upto age 30 then decreases."
   ]
  },
  {
   "cell_type": "markdown",
   "metadata": {},
   "source": [
    "__Q2b.__ Repeat the construction for males."
   ]
  },
  {
   "cell_type": "code",
   "execution_count": 8,
   "metadata": {},
   "outputs": [
    {
     "name": "stdout",
     "output_type": "stream",
     "text": [
      "agegrp    DMDMARTL_M  DMDMARTLx          \n",
      "(10, 20]  (0, 1]      Missing                0.023540\n",
      "                      Never married          0.006277\n",
      "                      Living with partner    0.000523\n",
      "                      Married                0.000174\n",
      "(20, 30]  (0, 1]      Never married          0.039407\n",
      "                      Married                0.017960\n",
      "                      Living with partner    0.016042\n",
      "                      Separated              0.001221\n",
      "                      Divorced               0.000349\n",
      "                      Widowed                0.000349\n",
      "(30, 40]  (0, 1]      Married                0.044987\n",
      "                      Never married          0.015519\n",
      "                      Living with partner    0.012554\n",
      "                      Divorced               0.004185\n",
      "                      Separated              0.002092\n",
      "                      Widowed                0.000349\n",
      "                      Refused                0.000174\n",
      "(40, 50]  (0, 1]      Married                0.049172\n",
      "                      Never married          0.006800\n",
      "                      Divorced               0.005929\n",
      "                      Living with partner    0.005754\n",
      "                      Separated              0.001918\n",
      "                      Widowed                0.000349\n",
      "(50, 60]  (0, 1]      Married                0.051613\n",
      "                      Divorced               0.009939\n",
      "                      Never married          0.008195\n",
      "                      Living with partner    0.005929\n",
      "                      Separated              0.001744\n",
      "                      Widowed                0.001744\n",
      "(60, 70]  (0, 1]      Married                0.050741\n",
      "                      Divorced               0.009590\n",
      "                      Never married          0.006626\n",
      "                      Living with partner    0.003836\n",
      "                      Widowed                0.002964\n",
      "                      Separated              0.002441\n",
      "(70, 80]  (0, 1]      Married                0.042895\n",
      "                      Widowed                0.011683\n",
      "                      Divorced               0.009939\n",
      "                      Separated              0.002441\n",
      "                      Living with partner    0.001569\n",
      "                      Never married          0.001569\n",
      "Name: DMDMARTLx, dtype: float64\n"
     ]
    }
   ],
   "source": [
    "da['agegrp'] = pd.cut(da.RIDAGEYR, [0,10,20,30,40,50,60,70,80,90,100])\n",
    "print(da.groupby([\"agegrp\",'DMDMARTL_M'])[\"DMDMARTLx\"].value_counts()/total)\n",
    "#How to obtain total 'Male' count from 'RIAGENDRx' in 'total' variable?\n",
    "#da.RIAGENDR['Male'].value_counts()\n",
    "#How to show cumulative sum alongside each case?"
   ]
  },
  {
   "cell_type": "markdown",
   "metadata": {},
   "source": [
    "__Q2c.__ Comment on any notable differences that you see when comparing these results for females and for males."
   ]
  },
  {
   "cell_type": "raw",
   "metadata": {},
   "source": [
    "1. Proportion of married mens increases upto age 60 then decreases.\n",
    "2. Proportion of divorced mens increases upto age 50 then decreases and again increase after age 70.\n",
    "3. Proportion of separated mens increases upto age 40 then decreases and again increase after age 60.\n",
    "4. Proportion of never married mens increases upto age 30 then decreases upto age 80 but there is sudden increase in between age 50-60.\n",
    "5. Proportion of widowed mens is constant upto age 30 and increase afterwards.\n",
    "6. Proportion of mens living with partners increases upto age 30 then decreases upto age 50 and suddenly increase between age 50-60 and again decrease upto age 80."
   ]
  },
  {
   "cell_type": "markdown",
   "metadata": {},
   "source": [
    "## Question 3\n",
    "\n",
    "Construct a histogram of the distribution of heights using the BMXHT variable in the NHANES sample."
   ]
  },
  {
   "cell_type": "code",
   "execution_count": 109,
   "metadata": {
    "collapsed": true
   },
   "outputs": [
    {
     "name": "stdout",
     "output_type": "stream",
     "text": [
      "count    5673.000000\n",
      "mean      166.142834\n",
      "std        10.079264\n",
      "min       129.700000\n",
      "25%       158.700000\n",
      "50%       166.000000\n",
      "75%       173.500000\n",
      "max       202.700000\n",
      "Name: BMXHT, dtype: float64\n"
     ]
    },
    {
     "data": {
      "text/plain": [
       "Text(0, 0.5, 'Number of People')"
      ]
     },
     "execution_count": 109,
     "metadata": {},
     "output_type": "execute_result"
    },
    {
     "data": {
      "image/png": "[encoded data removed]",
      "text/plain": [
       "<Figure size 640x480 with 1 Axes>"
      ]
     },
     "metadata": {},
     "output_type": "display_data"
    }
   ],
   "source": [
    "print(da.BMXHT.describe())\n",
    "sns.histplot(data=da.BMXHT.dropna(),kde = True, binwidth = 3).set_ylabel('Number of People')"
   ]
  },
  {
   "cell_type": "markdown",
   "metadata": {},
   "source": [
    "__Q3a.__ Use the `bins` argument to [distplot](https://seaborn.pydata.org/generated/seaborn.distplot.html) to produce histograms with different numbers of bins.  Assess whether the default value for this argument gives a meaningful result, and comment on what happens as the number of bins grows excessively large or excessively small. "
   ]
  },
  {
   "cell_type": "raw",
   "metadata": {},
   "source": [
    "The histogram shows that the distribution of BMXHT is normal, symmetric and bimodal with mean and median around 165 cm. \n",
    "    When we increase bin width the number of peoples within a particular range of height increases and makes it more difficult to determine what would the actual height of a person in that bin is.\n",
    "    But when we decrease bin width the number of peoples within a particular range of height decreases and makes it more easier to determine what would the actual height of a person in that bin is."
   ]
  },
  {
   "cell_type": "markdown",
   "metadata": {},
   "source": [
    "__Q3b.__ Make separate histograms for the heights of women and men, then make a side-by-side boxplot showing the heights of women and men."
   ]
  },
  {
   "cell_type": "code",
   "execution_count": 164,
   "metadata": {
    "collapsed": true
   },
   "outputs": [
    {
     "name": "stdout",
     "output_type": "stream",
     "text": [
      "5673\n",
      "62\n",
      "Text(0, 0.5, 'Male count')\n"
     ]
    },
    {
     "data": {
      "image/png": "[encoded data removed]",
      "text/plain": [
       "<Figure size 640x480 with 1 Axes>"
      ]
     },
     "metadata": {},
     "output_type": "display_data"
    }
   ],
   "source": [
    "print(da.BMXHT.value_counts().sum())\n",
    "print(pd.isnull(da.BMXHT).sum())\n",
    "da['RIAGENDR_M'] = pd.cut(da.RIAGENDR,[0,1])\n",
    "x = da.loc[:,['RIAGENDR_M','BMXHT']].dropna()\n",
    "print(sns.histplot(data=x.BMXHT).set_ylabel('Male count'))"
   ]
  },
  {
   "cell_type": "code",
   "execution_count": 165,
   "metadata": {
    "collapsed": true
   },
   "outputs": [
    {
     "name": "stdout",
     "output_type": "stream",
     "text": [
      "Text(0, 0.5, 'Female count')\n"
     ]
    },
    {
     "data": {
      "image/png": "[encoded data removed]",
      "text/plain": [
       "<Figure size 640x480 with 1 Axes>"
      ]
     },
     "metadata": {},
     "output_type": "display_data"
    }
   ],
   "source": [
    "da['RIAGENDR_F'] = pd.cut(da.RIAGENDR,[1,2])\n",
    "y = da.loc[:,['RIAGENDR_F','BMXHT']].dropna()\n",
    "print(sns.histplot(data=y.BMXHT).set_ylabel('Female count'))"
   ]
  },
  {
   "cell_type": "code",
   "execution_count": 166,
   "metadata": {
    "collapsed": true
   },
   "outputs": [
    {
     "name": "stdout",
     "output_type": "stream",
     "text": [
      "Text(0, 0.5, 'Female count')\n",
      "Text(0, 0.5, 'Male count')\n"
     ]
    },
    {
     "data": {
      "image/png": "[encoded data removed]",
      "text/plain": [
       "<Figure size 640x480 with 1 Axes>"
      ]
     },
     "metadata": {},
     "output_type": "display_data"
    }
   ],
   "source": [
    "print(sns.histplot(data=y.BMXHT).set_ylabel('Female count'))\n",
    "print(sns.histplot(data=x.BMXHT).set_ylabel('Male count'))"
   ]
  },
  {
   "cell_type": "code",
   "execution_count": 11,
   "metadata": {},
   "outputs": [
    {
     "name": "stdout",
     "output_type": "stream",
     "text": [
      "AxesSubplot(0.125,0.11;0.775x0.77)\n"
     ]
    },
    {
     "data": {
      "image/png": "[encoded data removed]",
      "text/plain": [
       "<Figure size 600x500 with 1 Axes>"
      ]
     },
     "metadata": {},
     "output_type": "display_data"
    }
   ],
   "source": [
    "####### WRONG sns.boxplot(data=da, hue='RIAGENDR', y='BMXHT') ###########\n",
    "plt.figure(figsize=(6,5))\n",
    "print(sns.boxplot(x=\"RIAGENDRx\", y=\"BMXHT\", hue=\"RIAGENDRx\", data=da))"
   ]
  },
  {
   "cell_type": "markdown",
   "metadata": {},
   "source": [
    "__Q3c.__ Comment on what features, if any are not represented clearly in the boxplots, and what features, if any, are easier to see in the boxplots than in the histograms."
   ]
  },
  {
   "cell_type": "raw",
   "metadata": {},
   "source": [
    "Boxplots doesn't show the shape of distribution of data but boxplots are easier to take account of mean, median, IQR and Range of the data."
   ]
  },
  {
   "cell_type": "markdown",
   "metadata": {},
   "source": [
    "## Question 4\n",
    "\n",
    "Make a boxplot showing the distribution of within-subject differences between the first and second systolic blood pressure measurents ([BPXSY1](https://wwwn.cdc.gov/Nchs/Nhanes/2015-2016/BPX_I.htm#BPXSY1) and [BPXSY2](https://wwwn.cdc.gov/Nchs/Nhanes/2015-2016/BPX_I.htm#BPXSY2))."
   ]
  },
  {
   "cell_type": "code",
   "execution_count": 87,
   "metadata": {
    "collapsed": true
   },
   "outputs": [
    {
     "data": {
      "text/plain": [
       "<AxesSubplot:ylabel='BPXSYx'>"
      ]
     },
     "execution_count": 87,
     "metadata": {},
     "output_type": "execute_result"
    },
    {
     "data": {
      "image/png": "[encoded data removed]",
      "text/plain": [
       "<Figure size 700x600 with 1 Axes>"
      ]
     },
     "metadata": {},
     "output_type": "display_data"
    }
   ],
   "source": [
    "da['BPXSYx'] = (da.BPXSY1-da.BPXSY2)\n",
    "plt.figure(figsize=(7,6))\n",
    "sns.boxplot(y='BPXSYx', data = da)"
   ]
  },
  {
   "cell_type": "markdown",
   "metadata": {},
   "source": [
    "__Q4a.__ What proportion of the subjects have a lower SBP on the second reading compared to the first?"
   ]
  },
  {
   "cell_type": "raw",
   "metadata": {},
   "source": [
    "Approximately half of the subjects. "
   ]
  },
  {
   "cell_type": "markdown",
   "metadata": {},
   "source": [
    "__Q4b.__ Make side-by-side boxplots of the two systolic blood pressure variables."
   ]
  },
  {
   "cell_type": "code",
   "execution_count": 84,
   "metadata": {
    "collapsed": true
   },
   "outputs": [
    {
     "data": {
      "image/png": "[encoded data removed]",
      "text/plain": [
       "<Figure size 1200x600 with 1 Axes>"
      ]
     },
     "metadata": {},
     "output_type": "display_data"
    }
   ],
   "source": [
    "plt.figure(figsize=(12,6))\n",
    "bp=sns.boxplot(data = da.loc[:,['BPXSY1','BPXSY2']])\n",
    "_=bp.set_ylabel('Number of subjects')"
   ]
  },
  {
   "cell_type": "markdown",
   "metadata": {},
   "source": [
    "__Q4c.__ Comment on the variation within either the first or second systolic blood pressure measurements, and the variation in the within-subject differences between the first and second systolic blood pressure measurements."
   ]
  },
  {
   "cell_type": "code",
   "execution_count": 98,
   "metadata": {
    "collapsed": true
   },
   "outputs": [
    {
     "name": "stdout",
     "output_type": "stream",
     "text": [
      "count    5369.000000\n",
      "mean        0.674986\n",
      "std         5.046465\n",
      "min       -26.000000\n",
      "25%        -2.000000\n",
      "50%         0.000000\n",
      "75%         4.000000\n",
      "max        32.000000\n",
      "Name: BPXSYx, dtype: float64\n",
      "count    5401.000000\n",
      "mean      125.084614\n",
      "std        18.480873\n",
      "min        82.000000\n",
      "25%       112.000000\n",
      "50%       122.000000\n",
      "75%       134.000000\n",
      "max       236.000000\n",
      "Name: BPXSY1, dtype: float64\n",
      "count    5535.000000\n",
      "mean      124.783017\n",
      "std        18.527012\n",
      "min        84.000000\n",
      "25%       112.000000\n",
      "50%       122.000000\n",
      "75%       134.000000\n",
      "max       238.000000\n",
      "Name: BPXSY2, dtype: float64\n"
     ]
    }
   ],
   "source": [
    "print(da.BPXSYx.describe())\n",
    "print(da.BPXSY1.describe())\n",
    "print(da.BPXSY2.describe())"
   ]
  },
  {
   "cell_type": "markdown",
   "metadata": {},
   "source": [
    "## Question 5\n",
    "\n",
    "Construct a frequency table of household sizes [DMDHHSIZ] for people within each educational attainment category (the relevant variable is [DMDEDUC2](https://wwwn.cdc.gov/Nchs/Nhanes/2015-2016/DEMO_I.htm#DMDEDUC2)).  Convert the frequencies to proportions."
   ]
  },
  {
   "cell_type": "code",
   "execution_count": 64,
   "metadata": {
    "collapsed": true
   },
   "outputs": [
    {
     "name": "stdout",
     "output_type": "stream",
     "text": [
      "Some college/AA    1621\n",
      "College            1366\n",
      "HS/GED             1186\n",
      "<9                  655\n",
      "9-11                643\n",
      "Missing             261\n",
      "Don't know            3\n",
      "Name: DMDEDUC2x, dtype: int64\n",
      "5735\n"
     ]
    },
    {
     "data": {
      "text/plain": [
       "DMDHHSIZ  DMDEDUC2x      \n",
       "1         Some college/AA    0.042720\n",
       "          College            0.034002\n",
       "          HS/GED             0.031561\n",
       "          9-11               0.013078\n",
       "          <9                 0.012554\n",
       "          Missing            0.000349\n",
       "2         College            0.082825\n",
       "          Some college/AA    0.076024\n",
       "          HS/GED             0.055972\n",
       "          <9                 0.025632\n",
       "          9-11               0.024935\n",
       "          Missing            0.003836\n",
       "          Don't know         0.000349\n",
       "3         Some college/AA    0.054577\n",
       "          College            0.046207\n",
       "          HS/GED             0.035397\n",
       "          9-11               0.018309\n",
       "          <9                 0.016739\n",
       "          Missing            0.009590\n",
       "4         Some college/AA    0.047777\n",
       "          College            0.039407\n",
       "          HS/GED             0.033479\n",
       "          9-11               0.017088\n",
       "          <9                 0.015170\n",
       "          Missing            0.010288\n",
       "5         Some college/AA    0.034525\n",
       "          College            0.022668\n",
       "          HS/GED             0.022668\n",
       "          <9                 0.016914\n",
       "          9-11               0.016391\n",
       "          Missing            0.008544\n",
       "          Don't know         0.000174\n",
       "6         Some college/AA    0.014298\n",
       "          HS/GED             0.013601\n",
       "          9-11               0.012729\n",
       "          <9                 0.012380\n",
       "          College            0.006975\n",
       "          Missing            0.006103\n",
       "7         <9                 0.014821\n",
       "          HS/GED             0.014124\n",
       "          Some college/AA    0.012729\n",
       "          9-11               0.009590\n",
       "          Missing            0.006800\n",
       "          College            0.006103\n",
       "Name: DMDEDUC2x, dtype: float64"
      ]
     },
     "execution_count": 64,
     "metadata": {},
     "output_type": "execute_result"
    }
   ],
   "source": [
    "da[\"DMDEDUC2x\"] = da.DMDEDUC2.replace({1: \"<9\", 2: \"9-11\", 3: \"HS/GED\", 4: \"Some college/AA\", 5: \"College\", 7: \"Refused\", 9: \"Don't know\"}).fillna('Missing')\n",
    "print(da.DMDEDUC2x.value_counts())\n",
    "total = da.DMDHHSIZ.value_counts().sum()\n",
    "print(total)\n",
    "da.groupby('DMDHHSIZ')['DMDEDUC2x'].value_counts()/total"
   ]
  },
  {
   "cell_type": "markdown",
   "metadata": {},
   "source": [
    "__Q5a.__ Comment on any major differences among the distributions."
   ]
  },
  {
   "cell_type": "raw",
   "metadata": {},
   "source": [
    "People with DMDEDUC2='Some college/AA' have higher frequency proportion in each household size except with DMDHHSIZ='2'."
   ]
  },
  {
   "cell_type": "markdown",
   "metadata": {},
   "source": [
    "__Q5b.__ Restrict the sample to people between 30 and 40 years of age.  Then calculate the median household size for women and men within each level of educational attainment."
   ]
  },
  {
   "cell_type": "code",
   "execution_count": 72,
   "metadata": {
    "collapsed": true
   },
   "outputs": [
    {
     "name": "stdout",
     "output_type": "stream",
     "text": [
      "(30, 40]    932\n",
      "Name: agegrp, dtype: int64\n",
      "agegrp    RIAGENDR_F  DMDHHSIZx  DMDEDUC2x      \n",
      "(30, 40]  (1, 2]      (0, 1]     College            14\n",
      "                                 9-11                2\n",
      "                                 HS/GED              2\n",
      "                                 Some college/AA     2\n",
      "                                 <9                  1\n",
      "Name: DMDEDUC2x, dtype: int64\n",
      "MEDIAN: 2.0\n",
      "agegrp    RIAGENDR_F  DMDHHSIZx  DMDEDUC2x      \n",
      "(30, 40]  (1, 2]      (1, 2]     College            23\n",
      "                                 Some college/AA    16\n",
      "                                 9-11                7\n",
      "                                 <9                  2\n",
      "                                 HS/GED              2\n",
      "Name: DMDEDUC2x, dtype: int64\n",
      "MEDIAN: 7.0\n",
      "agegrp    RIAGENDR_F  DMDHHSIZx  DMDEDUC2x      \n",
      "(30, 40]  (1, 2]      (2, 3]     College            34\n",
      "                                 Some college/AA    29\n",
      "                                 HS/GED             16\n",
      "                                 <9                  4\n",
      "                                 9-11                2\n",
      "Name: DMDEDUC2x, dtype: int64\n",
      "MEDIAN: 16.0\n",
      "agegrp    RIAGENDR_F  DMDHHSIZx  DMDEDUC2x      \n",
      "(30, 40]  (1, 2]      (3, 4]     College            49\n",
      "                                 Some college/AA    43\n",
      "                                 HS/GED             15\n",
      "                                 9-11                7\n",
      "                                 <9                  7\n",
      "Name: DMDEDUC2x, dtype: int64\n",
      "MEDIAN: 15.0\n",
      "agegrp    RIAGENDR_F  DMDHHSIZx  DMDEDUC2x      \n",
      "(30, 40]  (1, 2]      (4, 5]     Some college/AA    42\n",
      "                                 College            18\n",
      "                                 HS/GED             14\n",
      "                                 9-11               11\n",
      "                                 <9                 10\n",
      "Name: DMDEDUC2x, dtype: int64\n",
      "MEDIAN: 14.0\n",
      "agegrp    RIAGENDR_F  DMDHHSIZx  DMDEDUC2x      \n",
      "(30, 40]  (1, 2]      (5, 6]     HS/GED             15\n",
      "                                 <9                 13\n",
      "                                 Some college/AA    12\n",
      "                                 9-11                9\n",
      "                                 College             7\n",
      "Name: DMDEDUC2x, dtype: int64\n",
      "MEDIAN: 12.0\n",
      "agegrp    RIAGENDR_F  DMDHHSIZx  DMDEDUC2x      \n",
      "(30, 40]  (1, 2]      (6, 7]     Some college/AA    15\n",
      "                                 HS/GED             14\n",
      "                                 <9                  9\n",
      "                                 9-11                4\n",
      "                                 College             4\n",
      "Name: DMDEDUC2x, dtype: int64\n",
      "MEDIAN: 9.0\n"
     ]
    }
   ],
   "source": [
    "da['agegrp'] = pd.cut(da.RIDAGEYR.fillna('Missing'),[30,40])\n",
    "print(da.agegrp.value_counts())\n",
    "da['RIAGENDR_F'] = pd.cut(da.RIAGENDR.fillna('Missing'),[1,2])\n",
    "n=1\n",
    "while n<=7:\n",
    "    da['DMDHHSIZx'] = pd.cut(da.DMDHHSIZ.fillna('Missing'),[n-1,n])\n",
    "    x = da.groupby(['agegrp','RIAGENDR_F','DMDHHSIZx'])['DMDEDUC2x'].value_counts()\n",
    "    print(x)\n",
    "    print('MEDIAN:',x.median())\n",
    "    n=n+1"
   ]
  },
  {
   "cell_type": "code",
   "execution_count": 18,
   "metadata": {
    "collapsed": true
   },
   "outputs": [
    {
     "name": "stdout",
     "output_type": "stream",
     "text": [
      "agegrp    RIAGENDR_M  DMDHHSIZx  DMDEDUC2x      \n",
      "(30, 40]  (0, 1]      (0, 1]     Some college/AA    17\n",
      "                                 College            12\n",
      "                                 HS/GED             10\n",
      "                                 9-11                2\n",
      "Name: DMDEDUC2x, dtype: int64\n",
      "MEDIAN: 11.0\n",
      "agegrp    RIAGENDR_M  DMDHHSIZx  DMDEDUC2x      \n",
      "(30, 40]  (0, 1]      (1, 2]     College            24\n",
      "                                 Some college/AA    15\n",
      "                                 HS/GED             13\n",
      "                                 9-11                6\n",
      "                                 <9                  2\n",
      "Name: DMDEDUC2x, dtype: int64\n",
      "MEDIAN: 13.0\n",
      "agegrp    RIAGENDR_M  DMDHHSIZx  DMDEDUC2x      \n",
      "(30, 40]  (0, 1]      (2, 3]     College            28\n",
      "                                 Some college/AA    18\n",
      "                                 HS/GED             16\n",
      "                                 9-11               10\n",
      "                                 <9                  7\n",
      "Name: DMDEDUC2x, dtype: int64\n",
      "MEDIAN: 16.0\n",
      "agegrp    RIAGENDR_M  DMDHHSIZx  DMDEDUC2x      \n",
      "(30, 40]  (0, 1]      (3, 4]     College            33\n",
      "                                 Some college/AA    27\n",
      "                                 HS/GED             24\n",
      "                                 9-11               16\n",
      "                                 <9                  7\n",
      "Name: DMDEDUC2x, dtype: int64\n",
      "MEDIAN: 24.0\n",
      "agegrp    RIAGENDR_M  DMDHHSIZx  DMDEDUC2x      \n",
      "(30, 40]  (0, 1]      (4, 5]     Some college/AA    25\n",
      "                                 HS/GED             17\n",
      "                                 9-11               16\n",
      "                                 <9                 12\n",
      "                                 College            12\n",
      "Name: DMDEDUC2x, dtype: int64\n",
      "MEDIAN: 16.0\n",
      "agegrp    RIAGENDR_M  DMDHHSIZx  DMDEDUC2x      \n",
      "(30, 40]  (0, 1]      (5, 6]     9-11               13\n",
      "                                 Some college/AA    13\n",
      "                                 HS/GED             11\n",
      "                                 <9                  5\n",
      "                                 College             4\n",
      "Name: DMDEDUC2x, dtype: int64\n",
      "MEDIAN: 11.0\n",
      "agegrp    RIAGENDR_M  DMDHHSIZx  DMDEDUC2x      \n",
      "(30, 40]  (0, 1]      (6, 7]     <9                 14\n",
      "                                 HS/GED             13\n",
      "                                 Some college/AA     8\n",
      "                                 9-11                6\n",
      "                                 College             2\n",
      "Name: DMDEDUC2x, dtype: int64\n",
      "MEDIAN: 8.0\n"
     ]
    }
   ],
   "source": [
    "da['RIAGENDR_M'] = pd.cut(da.RIAGENDR,[0,1])\n",
    "n=1\n",
    "while n<=7:\n",
    "    da['DMDHHSIZx'] = pd.cut(da.DMDHHSIZ,[n-1,n])\n",
    "    x = da.groupby(['agegrp','RIAGENDR_M','DMDHHSIZx'])['DMDEDUC2x'].value_counts()\n",
    "    print(x)\n",
    "    print('MEDIAN:',x.median())\n",
    "    n=n+1"
   ]
  },
  {
   "cell_type": "markdown",
   "metadata": {},
   "source": [
    "## Question 6\n",
    "\n",
    "The participants can be clustered into \"masked variance units\" (MVU) based on every combination of the variables [SDMVSTRA](https://wwwn.cdc.gov/Nchs/Nhanes/2015-2016/DEMO_I.htm#SDMVSTRA) and [SDMVPSU](https://wwwn.cdc.gov/Nchs/Nhanes/2015-2016/DEMO_I.htm#SDMVPSU).  Calculate the mean age ([RIDAGEYR](https://wwwn.cdc.gov/Nchs/Nhanes/2015-2016/DEMO_I.htm#RIDAGEYR)), height ([BMXHT](https://wwwn.cdc.gov/Nchs/Nhanes/2015-2016/BMX_I.htm#BMXHT)), and BMI ([BMXBMI](https://wwwn.cdc.gov/Nchs/Nhanes/2015-2016/BMX_I.htm#BMXBMI)) for each gender ([RIAGENDR](https://wwwn.cdc.gov/Nchs/Nhanes/2015-2016/DEMO_I.htm#RIAGENDR)), within each MVU, and report the ratio between the largest and smallest mean (e.g. for height) across the MVUs."
   ]
  },
  {
   "cell_type": "code",
   "execution_count": 75,
   "metadata": {
    "collapsed": true
   },
   "outputs": [
    {
     "name": "stdout",
     "output_type": "stream",
     "text": [
      "                            RIDAGEYR       BMXHT     BMXBMI\n",
      "SDMVSTRA SDMVPSU RIAGENDR                                  \n",
      "119      1       1         47.861111  172.741667  26.958333\n",
      "                 2         47.663265  159.570408  30.052041\n",
      "         2       1         54.363636  172.906818  27.160465\n",
      "                 2         52.987952  159.244578  27.849398\n",
      "120      1       1         43.130000  169.537755  30.939175\n",
      "                 2         43.636364  155.402041  32.419388\n",
      "         2       1         45.219178  173.075342  27.727397\n",
      "                 2         43.736111  159.218056  27.400000\n",
      "121      1       1         46.750000  172.177885  29.416505\n",
      "                 2         44.397959  158.871579  30.856842\n",
      "         2       1         42.063158  174.764516  26.273118\n",
      "                 2         44.376344  160.229032  26.470968\n",
      "122      1       1         44.653061  173.998969  28.528866\n",
      "                 2         42.897436  161.315385  29.447436\n",
      "         2       1         44.320000  170.332323  25.744444\n",
      "                 2         47.333333  157.231111  26.611111\n",
      "123      1       1         47.829787  174.315217  29.231522\n",
      "                 2         44.841121  162.059615  29.905769\n",
      "         2       1         52.126582  174.454430  28.811392\n",
      "                 2         46.457447  160.476596  30.641489\n",
      "124      1       1         50.750000  172.109009  28.614414\n",
      "                 2         51.664000  158.788710  29.533065\n",
      "         2       1         48.245614  174.291228  27.714035\n",
      "                 2         42.541667  162.853521  28.640845\n",
      "125      1       1         55.165289  173.631092  29.727731\n",
      "                 2         50.900901  160.762385  30.385321\n",
      "         2       1         49.705882  174.456863  29.143564\n",
      "                 2         51.660000  160.021429  28.564286\n",
      "126      1       1         48.416667  175.149398  29.033333\n",
      "                 2         46.229167  160.387500  31.262500\n",
      "         2       1         48.666667  174.713043  29.039130\n",
      "                 2         47.205882  160.892000  29.612121\n",
      "127      1       1         53.137931  171.545349  31.062353\n",
      "                 2         49.694444  157.422430  32.189720\n",
      "         2       1         54.070588  173.366667  30.557831\n",
      "                 2         51.486239  159.022936  30.770642\n",
      "128      1       1         53.673267  169.325000  31.749000\n",
      "                 2         55.638462  156.339063  32.303125\n",
      "         2       1         45.822785  172.400000  26.835443\n",
      "                 2         45.589744  160.437179  27.491026\n",
      "129      1       1         43.922222  171.094318  26.493182\n",
      "                 2         45.329787  156.900000  29.019149\n",
      "         2       1         45.775510  173.138298  28.961702\n",
      "                 2         43.500000  161.034259  29.429630\n",
      "130      1       1         50.516854  176.974157  30.337079\n",
      "                 2         47.810526  161.977895  30.700000\n",
      "         2       1         50.535354  175.061224  29.237755\n",
      "                 2         50.833333  160.060577  31.490385\n",
      "131      1       1         53.140187  175.610476  28.259615\n",
      "                 2         54.893617  161.989362  30.061702\n",
      "         2       1         46.778846  175.091346  30.077885\n",
      "                 2         45.000000  161.673810  32.984127\n",
      "132      1       1         42.380435  172.534066  28.546154\n",
      "                 2         43.210526  161.508421  29.848421\n",
      "         2       1         49.038760  172.809524  28.966667\n",
      "                 2         51.700000  159.138281  30.540625\n",
      "133      1       1         44.054795  171.509722  27.495833\n",
      "                 2         45.105882  158.295122  27.959259\n",
      "         2       1         47.489796  171.179167  27.966667\n",
      "                 2         47.063158  158.627368  29.000000\n",
      "1.322736197736198\n",
      "1.1388148854012856\n",
      "1.2812133917010913\n",
      "14.178729998545878\n",
      "49.05335121683035\n",
      "2.7751056847992226\n"
     ]
    },
    {
     "name": "stderr",
     "output_type": "stream",
     "text": [
      "C:\\Users\\acer\\AppData\\Local\\Temp\\ipykernel_7360\\2290626105.py:1: FutureWarning: Indexing with multiple keys (implicitly converted to a tuple of keys) will be deprecated, use a list instead.\n",
      "  x = da.groupby(['SDMVSTRA','SDMVPSU','RIAGENDR'])['RIDAGEYR','BMXHT','BMXBMI'].mean()\n"
     ]
    }
   ],
   "source": [
    "x = da.groupby(['SDMVSTRA','SDMVPSU','RIAGENDR'])['RIDAGEYR','BMXHT','BMXBMI'].mean()\n",
    "print(x)\n",
    "print(max(x.RIDAGEYR)/min(x.RIDAGEYR))\n",
    "print(max(x.BMXHT)/min(x.BMXHT))\n",
    "print(max(x.BMXBMI)/min(x.BMXBMI))\n",
    "print(x.RIDAGEYR.var())\n",
    "print(x.BMXHT.var())\n",
    "print(x.BMXBMI.var())"
   ]
  },
  {
   "cell_type": "markdown",
   "metadata": {},
   "source": [
    "__Q6a.__ Comment on the extent to which mean age, height, and BMI vary among the MVUs."
   ]
  },
  {
   "cell_type": "raw",
   "metadata": {},
   "source": [
    "Variance in mean Age, Height and BMI is 14.178, 49.053 and 2.775 respectively."
   ]
  },
  {
   "cell_type": "markdown",
   "metadata": {},
   "source": [
    "__Q6b.__ Calculate the inter-quartile range (IQR) for age, height, and BMI for each gender and each MVU.  Report the ratio between the largest and smalles IQR across the MVUs."
   ]
  },
  {
   "cell_type": "code",
   "execution_count": 46,
   "metadata": {
    "collapsed": true
   },
   "outputs": [
    {
     "name": "stdout",
     "output_type": "stream",
     "text": [
      "                           RIDAGEYR    BMXHT  BMXBMI\n",
      "SDMVSTRA SDMVPSU RIAGENDR                           \n",
      "119      1       1            62.25  177.825  28.500\n",
      "                 2            62.75  163.900  33.675\n",
      "         2       1            69.00  178.225  29.400\n",
      "                 2            69.00  164.300  31.850\n",
      "120      1       1            55.50  175.800  35.100\n",
      "                 2            57.00  159.800  36.900\n",
      "         2       1            59.00  178.900  30.600\n",
      "                 2            54.25  164.400  30.850\n",
      "121      1       1            63.00  177.700  33.000\n",
      "                 2            57.50  163.650  34.600\n",
      "         2       1            53.50  179.300  28.100\n",
      "                 2            56.00  164.800  29.600\n",
      "122      1       1            58.75  178.600  31.500\n",
      "                 2            55.00  166.925  33.575\n",
      "         2       1            58.00  175.200  27.600\n",
      "                 2            60.00  161.075  30.900\n",
      "123      1       1            61.00  179.025  32.625\n",
      "                 2            60.00  167.200  34.425\n",
      "         2       1            67.00  178.400  32.750\n",
      "                 2            62.75  165.800  34.775\n",
      "124      1       1            65.00  176.700  31.350\n",
      "                 2            64.00  163.325  33.250\n",
      "         2       1            65.00  179.600  31.700\n",
      "                 2            52.50  167.650  31.600\n",
      "125      1       1            70.00  178.900  33.500\n",
      "                 2            65.00  165.400  33.700\n",
      "         2       1            65.75  178.825  33.300\n",
      "                 2            67.00  165.200  33.650\n",
      "126      1       1            66.25  180.700  32.700\n",
      "                 2            61.00  164.500  36.400\n",
      "         2       1            66.00  179.000  31.700\n",
      "                 2            62.75  167.300  34.300\n",
      "127      1       1            68.00  176.675  34.700\n",
      "                 2            63.00  160.850  37.650\n",
      "         2       1            68.00  179.100  33.350\n",
      "                 2            65.00  164.700  34.500\n",
      "128      1       1            69.00  174.450  34.450\n",
      "                 2            70.00  160.725  35.975\n",
      "         2       1            57.00  177.250  29.350\n",
      "                 2            55.00  165.625  31.625\n",
      "129      1       1            53.75  177.400  29.125\n",
      "                 2            57.00  162.600  33.050\n",
      "         2       1            60.00  178.400  31.300\n",
      "                 2            56.25  165.625  33.000\n",
      "130      1       1            69.00  182.100  33.100\n",
      "                 2            65.00  166.850  35.800\n",
      "         2       1            64.50  179.300  32.700\n",
      "                 2            65.25  165.725  34.700\n",
      "131      1       1            72.50  180.400  31.825\n",
      "                 2            77.00  167.175  35.300\n",
      "         2       1            60.00  178.725  33.425\n",
      "                 2            55.00  165.475  37.475\n",
      "132      1       1            52.25  178.200  31.200\n",
      "                 2            58.00  166.950  34.700\n",
      "         2       1            69.00  178.475  33.425\n",
      "                 2            69.00  164.300  35.325\n",
      "133      1       1            59.00  176.000  30.625\n",
      "                 2            61.00  162.625  32.100\n",
      "         2       1            62.25  175.925  29.875\n",
      "                 2            60.50  163.450  32.850\n",
      "1.4736842105263157\n",
      "1.1395494367959949\n",
      "1.3641304347826086\n",
      "30.768697033898302\n",
      "50.39380649717512\n",
      "5.124057026836159\n"
     ]
    },
    {
     "name": "stderr",
     "output_type": "stream",
     "text": [
      "C:\\Users\\acer\\AppData\\Local\\Temp\\ipykernel_7360\\1045623385.py:1: FutureWarning: Indexing with multiple keys (implicitly converted to a tuple of keys) will be deprecated, use a list instead.\n",
      "  x = da.groupby(['SDMVSTRA','SDMVPSU','RIAGENDR'])['RIDAGEYR','BMXHT','BMXBMI'].quantile(0.75)\n"
     ]
    }
   ],
   "source": [
    "x = da.groupby(['SDMVSTRA','SDMVPSU','RIAGENDR'])['RIDAGEYR','BMXHT','BMXBMI'].quantile(0.75)\n",
    "print(x)\n",
    "print(max(x.RIDAGEYR)/min(x.RIDAGEYR))\n",
    "print(max(x.BMXHT)/min(x.BMXHT))\n",
    "print(max(x.BMXBMI)/min(x.BMXBMI))\n",
    "print(x.RIDAGEYR.var())\n",
    "print(x.BMXHT.var())\n",
    "print(x.BMXBMI.var())"
   ]
  },
  {
   "cell_type": "markdown",
   "metadata": {},
   "source": [
    "__Q6c.__ Comment on the extent to which the IQR for age, height, and BMI vary among the MVUs."
   ]
  },
  {
   "cell_type": "raw",
   "metadata": {},
   "source": [
    "Variance in IQR Age, Height and, BMI 30.769, 50.394, and 5.124 respectively."
   ]
  }
 ],
 "metadata": {
  "kernelspec": {
   "display_name": "Python 3 (ipykernel)",
   "language": "python",
   "name": "python3"
  },
  "language_info": {
   "codemirror_mode": {
    "name": "ipython",
    "version": 3
   },
   "file_extension": ".py",
   "mimetype": "text/x-python",
   "name": "python",
   "nbconvert_exporter": "python",
   "pygments_lexer": "ipython3",
   "version": "3.9.13"
  }
 },
 "nbformat": 4,
 "nbformat_minor": 2
}
